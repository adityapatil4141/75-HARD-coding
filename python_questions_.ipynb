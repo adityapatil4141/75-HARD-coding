{
  "nbformat": 4,
  "nbformat_minor": 0,
  "metadata": {
    "colab": {
      "provenance": [],
      "collapsed_sections": [
        "NYEFqMezM54Z",
        "F6fEBCUcDZKe",
        "uCVnPArVD5EQ",
        "p0ZnXxD5JfO6",
        "Akwvfm0GKFhC",
        "kz-YL5ViKSiH",
        "8nc0Yn3Gwp7U",
        "HDBHefodwsB-",
        "BuUHal8A_gLK",
        "TAcbm1Cn_wfb",
        "uT9LrybjwIDw",
        "k7JhfQ4OwUph",
        "0akEJmIK-RvK",
        "cUqAuRGNxvOa",
        "pfouTUyhcr-l",
        "VhbYnx4AuXwN",
        "Zr6DzNbwtwjp",
        "l50C42lAQCHn",
        "cbDfVcy-zU8Y",
        "yQVAKZ0rjIFp",
        "dxK1_xkxjTyq",
        "vRSI6IO7-Bqm",
        "GDFZVD775r4E",
        "UG3Mk6fH-m5i",
        "K9IRS3V5w5pQ",
        "x-P7HLKwYWBF",
        "AoAsy8FVjpaf",
        "qVml_KGSpjFB",
        "ZTaFYrOMwxUq",
        "YNmBI1y_7U7e",
        "FmTxGKhg80gN",
        "fsK5QR2MRx3n",
        "xJlt-xuob2Ex",
        "v3sZMrlbYF2B",
        "_5CeAEhMylWW"
      ],
      "authorship_tag": "ABX9TyPfu/nina9IpTUx05Q2LYvf",
      "include_colab_link": true
    },
    "kernelspec": {
      "name": "python3",
      "display_name": "Python 3"
    },
    "language_info": {
      "name": "python"
    }
  },
  "cells": [
    {
      "cell_type": "markdown",
      "metadata": {
        "id": "view-in-github",
        "colab_type": "text"
      },
      "source": [
        "<a href=\"https://colab.research.google.com/github/adityapatil4141/python-questions/blob/main/python_questions_.ipynb\" target=\"_parent\"><img src=\"https://colab.research.google.com/assets/colab-badge.svg\" alt=\"Open In Colab\"/></a>"
      ]
    },
    {
      "cell_type": "markdown",
      "source": [
        "#Questions On String :"
      ],
      "metadata": {
        "id": "NYEFqMezM54Z"
      }
    },
    {
      "cell_type": "code",
      "source": [
        "# Hello world:\n",
        "print('hello world')"
      ],
      "metadata": {
        "colab": {
          "base_uri": "https://localhost:8080/"
        },
        "id": "kznTAsx9Pp0T",
        "outputId": "8f4491ea-9e0e-4604-bfca-15905fc64ddd"
      },
      "execution_count": null,
      "outputs": [
        {
          "output_type": "stream",
          "name": "stdout",
          "text": [
            "hello world\n"
          ]
        }
      ]
    },
    {
      "cell_type": "code",
      "source": [
        "# Write a Python program to reverse a string.\n",
        "\n",
        "def reverse_string(input_string):\n",
        "    return input_string[::-1]\n"
      ],
      "metadata": {
        "id": "UiLccLWXHFwh"
      },
      "execution_count": null,
      "outputs": []
    },
    {
      "cell_type": "code",
      "source": [
        "reverse_string('hello')"
      ],
      "metadata": {
        "colab": {
          "base_uri": "https://localhost:8080/",
          "height": 35
        },
        "id": "WT0J4CafLSYV",
        "outputId": "df19b06b-b284-4177-8053-9d9212077bec"
      },
      "execution_count": null,
      "outputs": [
        {
          "output_type": "execute_result",
          "data": {
            "text/plain": [
              "'olleh'"
            ],
            "application/vnd.google.colaboratory.intrinsic+json": {
              "type": "string"
            }
          },
          "metadata": {},
          "execution_count": 8
        }
      ]
    },
    {
      "cell_type": "code",
      "source": [
        "# Write a Python program to check if a string is a palindrome.\n",
        "def palindrome_checker(word):\n",
        "  word_reverse = word[::-1]\n",
        "  if word_reverse == word:\n",
        "    print(\"palindrome\")\n",
        "  else:\n",
        "    print(\"not a palindrome\")"
      ],
      "metadata": {
        "id": "7jDizP61Ls68"
      },
      "execution_count": null,
      "outputs": []
    },
    {
      "cell_type": "code",
      "source": [
        "palindrome_checker('nitin')"
      ],
      "metadata": {
        "colab": {
          "base_uri": "https://localhost:8080/"
        },
        "id": "VFwImiZtKydl",
        "outputId": "0bf9a2d3-659f-4f7d-c3a3-121dcf178f5d"
      },
      "execution_count": null,
      "outputs": [
        {
          "output_type": "stream",
          "name": "stdout",
          "text": [
            "palindrome\n"
          ]
        }
      ]
    },
    {
      "cell_type": "code",
      "source": [
        "# Write a Python program to count the number of vowels in a string.\n",
        "def vowels_count(word):\n",
        "  vowles= ['a','e','i','o','u']\n",
        "  count = []\n",
        "  for i in word.lower():\n",
        "    if i in vowles:\n",
        "      count.append(i)\n",
        "\n",
        "\n",
        "  return len(count)\n"
      ],
      "metadata": {
        "id": "FMC9Nqo-NC1r"
      },
      "execution_count": null,
      "outputs": []
    },
    {
      "cell_type": "code",
      "source": [
        "vowels_count('Aditya')"
      ],
      "metadata": {
        "colab": {
          "base_uri": "https://localhost:8080/"
        },
        "id": "o3W7iuYWOGv5",
        "outputId": "452f8d41-f110-4a53-b862-8b6d37a728d3"
      },
      "execution_count": null,
      "outputs": [
        {
          "output_type": "execute_result",
          "data": {
            "text/plain": [
              "3"
            ]
          },
          "metadata": {},
          "execution_count": 24
        }
      ]
    },
    {
      "cell_type": "code",
      "source": [],
      "metadata": {
        "id": "m3L_CczAPdxz"
      },
      "execution_count": null,
      "outputs": []
    },
    {
      "cell_type": "markdown",
      "source": [
        "#  Integers, Floats & Booleans"
      ],
      "metadata": {
        "id": "F6fEBCUcDZKe"
      }
    },
    {
      "cell_type": "markdown",
      "source": [
        "Problem 1:\n",
        "\n",
        "In a cricket tournament, based on the outcome of a particular match a team gets following points:\n",
        "\n",
        "-wins gets 3 points\n",
        "\n",
        "-draws gets 1 points\n",
        "\n",
        "-losses gets 0 points\n",
        "\n",
        "Team Aravali plays 8 matches in this tournament. It wins 4 matches, loses 3 matches and draws 1. What is the total number of points gained by the Team Aravali?"
      ],
      "metadata": {
        "id": "WEfZf2-6Cm1V"
      }
    },
    {
      "cell_type": "code",
      "source": [
        "wins = 3\n",
        "draws = 1\n",
        "looses = 0\n",
        "\n",
        "points_gained = 4*wins + 3*looses + 1*draws\n",
        "print(f\"Points gained by team aravali = {points_gained}\")"
      ],
      "metadata": {
        "colab": {
          "base_uri": "https://localhost:8080/"
        },
        "id": "EVkp7ODBCsPs",
        "outputId": "f8b5527c-5eeb-4011-f041-1891397e41af"
      },
      "execution_count": null,
      "outputs": [
        {
          "output_type": "stream",
          "name": "stdout",
          "text": [
            "Points gained by team aravali = 13\n"
          ]
        }
      ]
    },
    {
      "cell_type": "markdown",
      "source": [
        "Problem 2:\n",
        "\n",
        "Root of a function  𝑓(𝑥)  is defined as the value  𝑥  where  𝑓(𝑥)=0\n",
        "\n",
        "Consider a quadratic function  𝑓(𝑥)=𝑥2+3𝑥−4\n",
        "\n",
        "**Find the value of the function  𝑓(𝑥)  at points  𝑥=2,𝑥=−1,𝑥=1 .**"
      ],
      "metadata": {
        "id": "Yo1TKe1NDbdH"
      }
    },
    {
      "cell_type": "code",
      "source": [
        "x= 2\n",
        "fx_at_2 = x**2 + 3*x - 4\n",
        "print(f'where(x = 2)= {fx_at_2}')\n"
      ],
      "metadata": {
        "colab": {
          "base_uri": "https://localhost:8080/"
        },
        "id": "GfPWa9IODjRf",
        "outputId": "ea45a599-69e8-4333-b8bb-94e230bec4f6"
      },
      "execution_count": null,
      "outputs": [
        {
          "output_type": "stream",
          "name": "stdout",
          "text": [
            "where(x = 2)= 6\n"
          ]
        }
      ]
    },
    {
      "cell_type": "code",
      "source": [
        "x= -1\n",
        "fx_at_minus1 = x**2 + 3*x - 4\n",
        "print(f'where(x = -1)= {fx_at_minus1}')\n"
      ],
      "metadata": {
        "colab": {
          "base_uri": "https://localhost:8080/"
        },
        "id": "nu6MhbGzEO-p",
        "outputId": "f9d01d2c-7018-4cca-f719-58b86a5048a4"
      },
      "execution_count": null,
      "outputs": [
        {
          "output_type": "stream",
          "name": "stdout",
          "text": [
            "where(x = -1)= -6\n"
          ]
        }
      ]
    },
    {
      "cell_type": "code",
      "source": [
        "x= 1\n",
        "fx_at_1 = x**2 + 3*x - 4\n",
        "print(f'where(x = -1)= {fx_at_1}')\n"
      ],
      "metadata": {
        "colab": {
          "base_uri": "https://localhost:8080/"
        },
        "id": "aenhX5hzEW07",
        "outputId": "cf1c7c7f-b15c-4df8-bdba-59ef821bc7ac"
      },
      "execution_count": null,
      "outputs": [
        {
          "output_type": "stream",
          "name": "stdout",
          "text": [
            "where(x = -1)= 0\n"
          ]
        }
      ]
    },
    {
      "cell_type": "markdown",
      "source": [
        "Return the boolean for each value of  𝑥  to find out whether that value is a root of  𝑓(𝑥)"
      ],
      "metadata": {
        "id": "L6F-egNEEtXt"
      }
    },
    {
      "cell_type": "code",
      "source": [
        "fx_at_2==0"
      ],
      "metadata": {
        "colab": {
          "base_uri": "https://localhost:8080/"
        },
        "id": "RC4b03kCE4yb",
        "outputId": "1194b133-5f1f-49e5-d7a5-e679f27b734a"
      },
      "execution_count": null,
      "outputs": [
        {
          "output_type": "execute_result",
          "data": {
            "text/plain": [
              "False"
            ]
          },
          "metadata": {},
          "execution_count": 11
        }
      ]
    },
    {
      "cell_type": "code",
      "source": [
        "fx_at_minus1==0"
      ],
      "metadata": {
        "colab": {
          "base_uri": "https://localhost:8080/"
        },
        "id": "XV_Ean-qE7aR",
        "outputId": "e090d27e-a071-440c-cc4c-9efd0f9fb6ad"
      },
      "execution_count": null,
      "outputs": [
        {
          "output_type": "execute_result",
          "data": {
            "text/plain": [
              "False"
            ]
          },
          "metadata": {},
          "execution_count": 12
        }
      ]
    },
    {
      "cell_type": "code",
      "source": [
        "fx_at_1==0"
      ],
      "metadata": {
        "colab": {
          "base_uri": "https://localhost:8080/"
        },
        "id": "ogr3pLWKE-75",
        "outputId": "e27edd6d-de7b-44b1-ee30-9ac0b2700c8c"
      },
      "execution_count": null,
      "outputs": [
        {
          "output_type": "execute_result",
          "data": {
            "text/plain": [
              "True"
            ]
          },
          "metadata": {},
          "execution_count": 14
        }
      ]
    },
    {
      "cell_type": "markdown",
      "source": [
        "Problem 3\n",
        "\n",
        "A bag contains 45 apples, 65 oranges and 30 bananas. Find the percentage of each type of food items in the bag."
      ],
      "metadata": {
        "id": "9iUdh00TFlFm"
      }
    },
    {
      "cell_type": "code",
      "source": [
        "apples = 45\n",
        "oranges = 65\n",
        "bananas = 30\n"
      ],
      "metadata": {
        "id": "uxGG_ORgFmam"
      },
      "execution_count": null,
      "outputs": []
    },
    {
      "cell_type": "code",
      "source": [
        "# apple perecentage\n",
        "total = apples+oranges+bananas\n",
        "percentage_apples = apples/total*100\n",
        "percentage_apples"
      ],
      "metadata": {
        "colab": {
          "base_uri": "https://localhost:8080/"
        },
        "id": "XAuV7SdzxeCF",
        "outputId": "e350e22f-9f44-489f-a2cc-fd8a24cc0479"
      },
      "execution_count": null,
      "outputs": [
        {
          "output_type": "execute_result",
          "data": {
            "text/plain": [
              "32.142857142857146"
            ]
          },
          "metadata": {},
          "execution_count": 12
        }
      ]
    },
    {
      "cell_type": "code",
      "source": [
        "# Oranges percentage\n",
        "percentage_orange = oranges/total*100\n",
        "percentage_orange"
      ],
      "metadata": {
        "colab": {
          "base_uri": "https://localhost:8080/"
        },
        "id": "Mv-USDxRyNtF",
        "outputId": "c4350e88-8d24-4571-e93a-2be569404727"
      },
      "execution_count": null,
      "outputs": [
        {
          "output_type": "execute_result",
          "data": {
            "text/plain": [
              "46.42857142857143"
            ]
          },
          "metadata": {},
          "execution_count": 13
        }
      ]
    },
    {
      "cell_type": "code",
      "source": [
        "# bananas percentage\n",
        "percentage_banana = bananas/total*100\n",
        "percentage_banana"
      ],
      "metadata": {
        "colab": {
          "base_uri": "https://localhost:8080/"
        },
        "id": "xW-EXUPny1Lx",
        "outputId": "a9a50451-4f27-4708-8296-14bcbda8bcb6"
      },
      "execution_count": null,
      "outputs": [
        {
          "output_type": "execute_result",
          "data": {
            "text/plain": [
              "21.428571428571427"
            ]
          },
          "metadata": {},
          "execution_count": 14
        }
      ]
    },
    {
      "cell_type": "markdown",
      "source": [
        "Problem 4\n",
        "\n",
        "You were playing a fun guessing game during your school break. There were a total of 100 participants excluding you. Out of these 100 people, 30 were Maths Majors, 45 were Economics Majors and 25 were Physics Majors.\n",
        "\n",
        "The game was divided into three rounds.\n",
        "\n",
        "In the first round, you had to guess the number of Maths Majors and you correctly guessed 20 of them.\n",
        "\n",
        "In the second round, you had to guess the number of Economics Majors and you correctly guessed 30 of them.\n",
        "\n",
        "In the final third round, you had to guess the number of Physics Majors and you correctly guessed 20 of them.\n",
        "\n",
        "Accuracy is defined as the number of correct guesses upon total number of people in the group (expressed in percentage)"
      ],
      "metadata": {
        "id": "sFfWcshQzSIV"
      }
    },
    {
      "cell_type": "code",
      "source": [
        "maths_major = 30\n",
        "economics_major = 45\n",
        "physics_major = 25\n",
        "guessed_maths_major = 20\n",
        "guessed_economics_major = 30\n",
        "guessed_physics_major = 20\n",
        "\n",
        "majors = maths_major+economics_major+physics_major\n",
        "correct_guesses = guessed_maths_major+guessed_economics_major+guessed_physics_major\n",
        "\n"
      ],
      "metadata": {
        "id": "w4SaL4MrzZw4"
      },
      "execution_count": null,
      "outputs": []
    },
    {
      "cell_type": "code",
      "source": [
        "# maths accuracy\n",
        "maths_accuracy = guessed_maths_major/maths_major*100\n",
        "maths_accuracy"
      ],
      "metadata": {
        "colab": {
          "base_uri": "https://localhost:8080/"
        },
        "id": "TsJA7jNX0QKx",
        "outputId": "c096d87a-f1bd-4469-9c79-ef0c0c2532a2"
      },
      "execution_count": null,
      "outputs": [
        {
          "output_type": "execute_result",
          "data": {
            "text/plain": [
              "66.66666666666666"
            ]
          },
          "metadata": {},
          "execution_count": 27
        }
      ]
    },
    {
      "cell_type": "code",
      "source": [
        "# physics accuracy\n",
        "physics_accuracy = guessed_physics_major/physics_major*100\n",
        "physics_accuracy"
      ],
      "metadata": {
        "colab": {
          "base_uri": "https://localhost:8080/"
        },
        "id": "CR9bpq4S0W_h",
        "outputId": "2e605134-357c-4cb5-8ed2-9914440e6db3"
      },
      "execution_count": null,
      "outputs": [
        {
          "output_type": "execute_result",
          "data": {
            "text/plain": [
              "80.0"
            ]
          },
          "metadata": {},
          "execution_count": 28
        }
      ]
    },
    {
      "cell_type": "code",
      "source": [
        "# Economics accuracy\n",
        "economics_accuracy = guessed_economics_major/economics_major*100\n",
        "economics_accuracy"
      ],
      "metadata": {
        "colab": {
          "base_uri": "https://localhost:8080/"
        },
        "id": "BgyN_6zZ0jOy",
        "outputId": "3bd74a97-8e8f-428c-ab8d-e62e24d4fa51"
      },
      "execution_count": null,
      "outputs": [
        {
          "output_type": "execute_result",
          "data": {
            "text/plain": [
              "66.66666666666666"
            ]
          },
          "metadata": {},
          "execution_count": 29
        }
      ]
    },
    {
      "cell_type": "code",
      "source": [
        "Total_accuracy = correct_guesses/majors*100\n",
        "Total_accuracy"
      ],
      "metadata": {
        "colab": {
          "base_uri": "https://localhost:8080/"
        },
        "id": "at6D_ZbR1tMb",
        "outputId": "a011a47e-d5b9-4536-a03b-be8f8d09ef86"
      },
      "execution_count": null,
      "outputs": [
        {
          "output_type": "execute_result",
          "data": {
            "text/plain": [
              "70.0"
            ]
          },
          "metadata": {},
          "execution_count": 30
        }
      ]
    },
    {
      "cell_type": "markdown",
      "source": [
        "#Tuples, Sets and Dictionaries."
      ],
      "metadata": {
        "id": "uCVnPArVD5EQ"
      }
    },
    {
      "cell_type": "markdown",
      "source": [
        "Another measure of average\n",
        "\n",
        "Mode is defined as the value that appears most often in a set of data values. Mode corresponds to the most frequent value.\n",
        "You are given a list of numbers and you need to calculate the mode of this list"
      ],
      "metadata": {
        "id": "m5JMSHr2EM-u"
      }
    },
    {
      "cell_type": "code",
      "source": [
        "temperatures = [34, 40, 29, 33, 42, 40, 39, 34, 34,33 ]"
      ],
      "metadata": {
        "id": "eCnjbuscEHMB"
      },
      "execution_count": null,
      "outputs": []
    },
    {
      "cell_type": "code",
      "source": [
        "unique_temp = list(set(temperatures))"
      ],
      "metadata": {
        "id": "E-zuvl8MET0a"
      },
      "execution_count": null,
      "outputs": []
    },
    {
      "cell_type": "code",
      "source": [
        "temp_dict = {}\n",
        "\n",
        "key = unique_temp[0]\n",
        "temp_dict[key] = temperatures.count(key)\n",
        "\n",
        "key = unique_temp[1]\n",
        "temp_dict[key] = temperatures.count(key)\n",
        "\n",
        "key = unique_temp[2]\n",
        "temp_dict[key] = temperatures.count(key)\n",
        "\n",
        "key = unique_temp[3]\n",
        "temp_dict[key] = temperatures.count(key)\n",
        "\n",
        "key = unique_temp[4]\n",
        "temp_dict[key] = temperatures.count(key)\n",
        "\n",
        "key = unique_temp[5]\n",
        "temp_dict[key] = temperatures.count(key)\n",
        "\n",
        "\n"
      ],
      "metadata": {
        "id": "W3NZMUfcGOTZ"
      },
      "execution_count": null,
      "outputs": []
    },
    {
      "cell_type": "code",
      "source": [
        "temp_dict"
      ],
      "metadata": {
        "colab": {
          "base_uri": "https://localhost:8080/"
        },
        "id": "ySdaQQ2HGpoI",
        "outputId": "93c1757f-f887-410f-d232-91b9209e830e"
      },
      "execution_count": null,
      "outputs": [
        {
          "output_type": "execute_result",
          "data": {
            "text/plain": [
              "{33: 2, 34: 3, 39: 1, 40: 2, 42: 1, 29: 1}"
            ]
          },
          "metadata": {},
          "execution_count": 28
        }
      ]
    },
    {
      "cell_type": "code",
      "source": [
        "temp_dict_values = list(temp_dict.values())\n",
        "max_count= max(temp_dict_values)\n",
        "\n",
        "most_frequent_temp_index = temp_dict_values.index(max_count)"
      ],
      "metadata": {
        "id": "YhiHi5YSEsuQ"
      },
      "execution_count": null,
      "outputs": []
    },
    {
      "cell_type": "code",
      "source": [
        "most_frequent_temp_index"
      ],
      "metadata": {
        "colab": {
          "base_uri": "https://localhost:8080/"
        },
        "id": "Bkag4217H6ND",
        "outputId": "caa68971-b223-48e1-d26e-b58064cf5c1e"
      },
      "execution_count": null,
      "outputs": [
        {
          "output_type": "execute_result",
          "data": {
            "text/plain": [
              "1"
            ]
          },
          "metadata": {},
          "execution_count": 30
        }
      ]
    },
    {
      "cell_type": "code",
      "source": [
        "temp_dict_keys = list(temp_dict.keys())\n",
        "\n",
        "# Print the list of dictionary keys\n",
        "print(temp_dict_keys)\n",
        "\n",
        "# Calculate the mode temperature\n",
        "mode_temp =  temp_dict_keys[most_frequent_temp_index]\n",
        "print(f'The mode of the temperatures is {mode_temp}')"
      ],
      "metadata": {
        "colab": {
          "base_uri": "https://localhost:8080/"
        },
        "id": "7boJs7gIHsfO",
        "outputId": "228dace2-b2af-47e9-d2f9-34fbc7d0d059"
      },
      "execution_count": null,
      "outputs": [
        {
          "output_type": "stream",
          "name": "stdout",
          "text": [
            "[33, 34, 39, 40, 42, 29]\n",
            "The mode of the temperatures is 34\n"
          ]
        }
      ]
    },
    {
      "cell_type": "markdown",
      "source": [
        "You are given a list of tuples. You need to replace the last element of the last tuple\n",
        "\n",
        "Expected output : Replace the last element 70 with 100\n",
        "\n",
        "output_list = [(10,20,30),(30,40,50),(50,60,100)]"
      ],
      "metadata": {
        "id": "qKkCIS6lLXr6"
      }
    },
    {
      "cell_type": "code",
      "source": [
        "list_of_tuples = [(10,20,30),(30,40,50),(50,60,70)]\n",
        "a=list_of_tuples[::-1]\n",
        "a.append((50,60,100))\n",
        "print(a)\n",
        "list_of_tuples = [(10,20,30),(30,40,50),(50,60,70)]\n",
        "list_of_tuples[-1]= (50,60,100)\n",
        "print(list_of_tuples)\n"
      ],
      "metadata": {
        "colab": {
          "base_uri": "https://localhost:8080/"
        },
        "id": "kbAqHX1PLeFW",
        "outputId": "8ce56fe8-5383-4e36-e35d-7c55dea3f9ee"
      },
      "execution_count": null,
      "outputs": [
        {
          "output_type": "stream",
          "name": "stdout",
          "text": [
            "[(50, 60, 70), (30, 40, 50), (10, 20, 30), (50, 60, 100)]\n",
            "[(10, 20, 30), (30, 40, 50), (50, 60, 100)]\n"
          ]
        }
      ]
    },
    {
      "cell_type": "markdown",
      "source": [
        "Natural Language Processing or NLP is one of the most promising fields in Machine Learning. Most of the times in NLP we deal with the textual data (a bunch of strings). Sometimes when we are processing the text, it is a common practice to get rid of some set of stop words from our original text. By default stop words are very common words used in English language such as and, or, punctuations etc.\n",
        "\n",
        "In this exercise, you are provided with a default set of stop words and you need to add some extra set of custom words."
      ],
      "metadata": {
        "id": "G0e67R_t1imR"
      }
    },
    {
      "cell_type": "code",
      "source": [
        "# Default set of stop words\n",
        "stop_words = {\"i\", \"me\", \"my\", \"myself\", \"we\", \"our\", \"ours\", \"ourselves\", \"you\", \"your\", \"yours\", \"yourself\",\n",
        "              \"yourselves\", \"he\", \"him\", \"his\", \"himself\", \"she\", \"her\", \"hers\", \"herself\", \"it\", \"its\", \"itself\",\n",
        "              \"they\", \"them\", \"their\", \"theirs\", \"themselves\", \"what\", \"which\", \"who\", \"whom\", \"this\", \"that\",\n",
        "              \"these\", \"those\", \"am\", \"is\", \"are\", \"was\", \"were\", \"be\", \"been\", \"being\", \"have\", \"has\", \"had\",\n",
        "              \"having\", \"do\", \"does\", \"did\", \"doing\", \"a\", \"an\", \"the\", \"and\", \"but\", \"if\", \"or\", \"because\",\n",
        "              \"as\", \"until\", \"while\", \"of\", \"at\", \"by\", \"for\", \"with\", \"about\", \"against\", \"between\", \"into\",\n",
        "              \"through\", \"during\", \"before\", \"after\", \"above\", \"below\", \"to\", \"from\", \"up\", \"down\", \"in\", \"out\",\n",
        "              \"on\", \"off\", \"over\", \"under\", \"again\", \"further\", \"then\", \"once\", \"here\", \"there\", \"when\", \"where\",\n",
        "              \"why\", \"how\", \"all\", \"any\", \"both\", \"each\", \"few\", \"more\", \"most\", \"other\", \"some\", \"such\", \"no\",\n",
        "              \"nor\", \"not\", \"only\", \"own\", \"same\", \"so\", \"than\", \"too\", \"very\", \"s\", \"t\", \"can\", \"will\", \"just\",\n",
        "              \"don\", \"should\", \"now\"}"
      ],
      "metadata": {
        "id": "W1qtEvx21vs-"
      },
      "execution_count": null,
      "outputs": []
    },
    {
      "cell_type": "code",
      "source": [
        "sentence = 'Hello, good morning folks! Today we will announce the half yearly performance results of the company. Due to the ongoing COVID-19 pandemic, our profits have declined by 60% as compared to the last half yearly results'\n",
        "custom_stop_words = set([\"hello\",\"good\",\"morning\",\"half\",\"yearly\"])\n",
        "\n",
        "stop_words.update(custom_stop_words)\n",
        "\n",
        "print('hello' in stop_words)\n",
        "print(stop_words)\n",
        "\n",
        "stop_words.intersection(custom_stop_words)\n",
        "\n",
        "print('hello' in stop_words)\n",
        "print(stop_words)\n",
        "\n"
      ],
      "metadata": {
        "colab": {
          "base_uri": "https://localhost:8080/"
        },
        "id": "0cLteKCb1r-G",
        "outputId": "bd0f35cf-e13a-4d13-dd79-4e735b084267"
      },
      "execution_count": null,
      "outputs": [
        {
          "output_type": "stream",
          "name": "stdout",
          "text": [
            "True\n",
            "{'do', 'other', 'some', 'was', 'too', 'with', 'further', 'his', 'have', 'more', 'when', 'any', 'which', 'few', 'hello', 'theirs', 'a', 'them', 'than', 'myself', 'be', 'itself', 'being', 'those', 'having', 'very', 'once', 'ours', 'can', 'below', 'your', 'while', 'what', 'herself', 'on', 'nor', 'such', 'is', 'him', 'yours', 'to', 'has', 'does', 'here', 'had', 'then', 'by', 'yearly', 'been', 'through', 'just', 'against', 'off', 'over', 'each', 'why', 'will', 'same', 'you', 'he', 'yourself', 'my', 'at', 'where', 'and', 'should', 'their', 'all', 'both', 'me', 'we', 'these', 'themselves', 'the', 'half', 'who', 'of', 'up', 's', 'our', 'as', 'under', 'between', 'were', 'am', 'they', 'down', 'now', 'are', 'ourselves', 'her', 'or', 'yourselves', 'during', 'out', 'for', 'whom', 'this', 'it', 'its', 'did', 't', 'again', 'in', 'most', 'into', 'good', 'own', 'she', 'no', 'an', 'how', 'but', 'if', 'about', 'above', 'i', 'until', 'before', 'that', 'not', 'there', 'himself', 'don', 'so', 'morning', 'doing', 'only', 'because', 'after', 'from', 'hers'}\n",
            "True\n",
            "{'do', 'other', 'some', 'was', 'too', 'with', 'further', 'his', 'have', 'more', 'when', 'any', 'which', 'few', 'hello', 'theirs', 'a', 'them', 'than', 'myself', 'be', 'itself', 'being', 'those', 'having', 'very', 'once', 'ours', 'can', 'below', 'your', 'while', 'what', 'herself', 'on', 'nor', 'such', 'is', 'him', 'yours', 'to', 'has', 'does', 'here', 'had', 'then', 'by', 'yearly', 'been', 'through', 'just', 'against', 'off', 'over', 'each', 'why', 'will', 'same', 'you', 'he', 'yourself', 'my', 'at', 'where', 'and', 'should', 'their', 'all', 'both', 'me', 'we', 'these', 'themselves', 'the', 'half', 'who', 'of', 'up', 's', 'our', 'as', 'under', 'between', 'were', 'am', 'they', 'down', 'now', 'are', 'ourselves', 'her', 'or', 'yourselves', 'during', 'out', 'for', 'whom', 'this', 'it', 'its', 'did', 't', 'again', 'in', 'most', 'into', 'good', 'own', 'she', 'no', 'an', 'how', 'but', 'if', 'about', 'above', 'i', 'until', 'before', 'that', 'not', 'there', 'himself', 'don', 'so', 'morning', 'doing', 'only', 'because', 'after', 'from', 'hers'}\n"
          ]
        }
      ]
    },
    {
      "cell_type": "markdown",
      "source": [],
      "metadata": {
        "id": "b4uZynKU15US"
      }
    },
    {
      "cell_type": "markdown",
      "source": [
        "#Lists"
      ],
      "metadata": {
        "id": "p0ZnXxD5JfO6"
      }
    },
    {
      "cell_type": "markdown",
      "source": [
        "A list contains the average daily temperature(in degree Celsius) of a city over a particular week. Write a Python code to swap the highest and the lowest temperatures\n",
        "\n",
        " A list containing average daily temperature over a week\n",
        "temperatures = [34, 40, 29, 33, 42, 37, 39 ]\n",
        "\n",
        "The expected output\n",
        "\n",
        "output_temperatures = [34, 40, 42, 33, 29, 37, 39]"
      ],
      "metadata": {
        "id": "pyhV13v6Jxdl"
      }
    },
    {
      "cell_type": "code",
      "source": [
        "temperatures = [34, 40, 29, 33, 42, 37, 39 ]"
      ],
      "metadata": {
        "id": "aldJApqIJt0x"
      },
      "execution_count": null,
      "outputs": []
    },
    {
      "cell_type": "code",
      "source": [
        "max_temp = max(temperatures) #42\n",
        "min_temp = min(temperatures) #29\n",
        "\n",
        "max_temp_index = temperatures.index(max_temp)\n",
        "min_temp_index = temperatures.index(min_temp)\n",
        "\n",
        "temperatures[max_temp_index]==min_temp\n",
        "temperatures[min_temp_index]==max_temp"
      ],
      "metadata": {
        "colab": {
          "base_uri": "https://localhost:8080/"
        },
        "id": "BMrz_CGGLbZM",
        "outputId": "be35676e-0ae9-4469-db79-66956300d475"
      },
      "execution_count": null,
      "outputs": [
        {
          "output_type": "execute_result",
          "data": {
            "text/plain": [
              "False"
            ]
          },
          "metadata": {},
          "execution_count": 12
        }
      ]
    },
    {
      "cell_type": "code",
      "source": [
        "temperatures"
      ],
      "metadata": {
        "colab": {
          "base_uri": "https://localhost:8080/"
        },
        "id": "Wp9QruJCMPTK",
        "outputId": "98179f36-1400-45fa-b39b-b4d43332edb1"
      },
      "execution_count": null,
      "outputs": [
        {
          "output_type": "execute_result",
          "data": {
            "text/plain": [
              "[34, 40, 29, 33, 42, 37, 39]"
            ]
          },
          "metadata": {},
          "execution_count": 13
        }
      ]
    },
    {
      "cell_type": "markdown",
      "source": [
        "Measures of Averages\n",
        "\n",
        "Mean of a group is defined as the sum of the elements in the group divided by the number of elements in the group.\n",
        "\n",
        "Median is the middle number in a sorted, ascending or descending, list of numbers. If the list has  𝑁  numbers where  𝑁  is odd, then median is the element in the middle i.e,  (𝑁+12)𝑡ℎ  element. If  𝑁  is even, then median is the mean of  (𝑁2)𝑡ℎ  and  (𝑁2+1)𝑡ℎ  elements"
      ],
      "metadata": {
        "id": "qXyHx8V6PS6k"
      }
    },
    {
      "cell_type": "code",
      "source": [
        "# List of product prices\n",
        "\n",
        "prod_price_list = [400, 250, 800, 550, 600, 820, 720, 15000, 360,250]"
      ],
      "metadata": {
        "id": "Mf8PX1ogL-Pb"
      },
      "execution_count": null,
      "outputs": []
    },
    {
      "cell_type": "code",
      "source": [
        "prod_price_list = [400, 250, 800, 550, 600, 820, 720, 15000, 360,250]"
      ],
      "metadata": {
        "id": "gSXmyyrMQGkL"
      },
      "execution_count": null,
      "outputs": []
    },
    {
      "cell_type": "code",
      "source": [
        "length_product_price = len(prod_price_list)\n",
        "sum__product_price = sum(prod_price_list)\n",
        "sorted_prices = sorted(prod_price_list)\n",
        "\n",
        "length_sorted=len(sorted_prices)\n",
        "\n",
        "mean = sum__product_price/length_product_price\n",
        "median_price = (sorted_prices[int(length_sorted/2)] + sorted_prices[int(length_sorted/2)+1])/2\n"
      ],
      "metadata": {
        "id": "5BrWE2afQGUU"
      },
      "execution_count": null,
      "outputs": []
    },
    {
      "cell_type": "code",
      "source": [
        "mean"
      ],
      "metadata": {
        "colab": {
          "base_uri": "https://localhost:8080/"
        },
        "id": "xhRv0rbeRt7o",
        "outputId": "d9393118-be43-46dd-982f-019c8cde29b6"
      },
      "execution_count": null,
      "outputs": [
        {
          "output_type": "execute_result",
          "data": {
            "text/plain": [
              "1975.0"
            ]
          },
          "metadata": {},
          "execution_count": 32
        }
      ]
    },
    {
      "cell_type": "code",
      "source": [
        "median_price"
      ],
      "metadata": {
        "colab": {
          "base_uri": "https://localhost:8080/"
        },
        "id": "A4brmTXMSJ2f",
        "outputId": "f1c08aed-4b73-4078-b578-0e6325a6d744"
      },
      "execution_count": null,
      "outputs": [
        {
          "output_type": "execute_result",
          "data": {
            "text/plain": [
              "660.0"
            ]
          },
          "metadata": {},
          "execution_count": 31
        }
      ]
    },
    {
      "cell_type": "markdown",
      "source": [
        "Having a nested list sometimes might be a bit problematic. An individual was asked to collect the names of companies in the technology sector.\n",
        "While creating the list, by mistake the last three companies were subsumed in a list as shown below. You are required to get rid of the nesting"
      ],
      "metadata": {
        "id": "ucfElaPJIQCW"
      }
    },
    {
      "cell_type": "code",
      "source": [
        "tech_companies = ['Qualcomm','Google','Apple',['Nvidia','Cisco','Samsung']]\n"
      ],
      "metadata": {
        "id": "23xOvuMfIUNX"
      },
      "execution_count": null,
      "outputs": []
    },
    {
      "cell_type": "code",
      "source": [
        "a= tech_companies[-1]\n",
        "b= tech_companies[:-1]+ a\n",
        "\n",
        "b"
      ],
      "metadata": {
        "colab": {
          "base_uri": "https://localhost:8080/"
        },
        "id": "OXJweFUvIkWn",
        "outputId": "cd8b8614-745e-42d3-f976-5ebbaba2a2dc"
      },
      "execution_count": null,
      "outputs": [
        {
          "output_type": "execute_result",
          "data": {
            "text/plain": [
              "['Qualcomm', 'Google', 'Apple', 'Nvidia', 'Cisco', 'Samsung']"
            ]
          },
          "metadata": {},
          "execution_count": 4
        }
      ]
    },
    {
      "cell_type": "markdown",
      "source": [
        "#BMI CALCULATOR"
      ],
      "metadata": {
        "id": "Akwvfm0GKFhC"
      }
    },
    {
      "cell_type": "code",
      "source": [
        "height = input()\n",
        "weight = input()\n",
        "height = float(height)\n",
        "print(round(int(weight)/(height**2)))\n"
      ],
      "metadata": {
        "id": "HcLAmJgDKF-t"
      },
      "execution_count": null,
      "outputs": []
    },
    {
      "cell_type": "markdown",
      "source": [
        "# LIFE IN WEEKS"
      ],
      "metadata": {
        "id": "kz-YL5ViKSiH"
      }
    },
    {
      "cell_type": "code",
      "source": [
        "age = input()\n",
        "age = int(age)\n",
        "total_weeks = 4680\n",
        "timeleft = total_weeks-(age*52)\n",
        "print(f\"You have {timeleft} weeks left.\")"
      ],
      "metadata": {
        "id": "mLKU0FzuKVan"
      },
      "execution_count": null,
      "outputs": []
    },
    {
      "cell_type": "markdown",
      "source": [
        "#Even Odd\n"
      ],
      "metadata": {
        "id": "8nc0Yn3Gwp7U"
      }
    },
    {
      "cell_type": "code",
      "source": [
        "#Even Odd\n",
        "\n",
        "number = int(input())\n",
        "if number %2 ==0:\n",
        "  print(\"This is an even number.\")\n",
        "else :\n",
        "  print(\"This is an odd number.\")"
      ],
      "metadata": {
        "id": "jUhq0DQXJl_1"
      },
      "execution_count": null,
      "outputs": []
    },
    {
      "cell_type": "markdown",
      "source": [
        "#HEADS OR TAILS\n"
      ],
      "metadata": {
        "id": "HDBHefodwsB-"
      }
    },
    {
      "cell_type": "code",
      "source": [
        "#HEADS OR TAILS\n",
        "first_flip = random.randint(0,1)\n",
        "if first_flip == 1:\n",
        "  print(\"Heads\")\n",
        "else :\n",
        "  print(\"Tails\")"
      ],
      "metadata": {
        "id": "miVojtrdJ4lh"
      },
      "execution_count": null,
      "outputs": []
    },
    {
      "cell_type": "markdown",
      "source": [
        "# LEAP YEAR"
      ],
      "metadata": {
        "id": "BuUHal8A_gLK"
      }
    },
    {
      "cell_type": "code",
      "source": [
        "year = int(input())\n",
        "if year%4==0:\n",
        "  if year%100 ==0:\n",
        "    if year%400==0:\n",
        "      print(\"Leap year\")\n",
        "    else:\n",
        "      print(\"Not leap year\")\n",
        "\n",
        "  else:\n",
        "    print(\"Leap year\")\n",
        "\n",
        "else:\n",
        "  print(\"Not leap year\")"
      ],
      "metadata": {
        "id": "8vinsXoy_pHk"
      },
      "execution_count": null,
      "outputs": []
    },
    {
      "cell_type": "markdown",
      "source": [
        "#TREASURE MAP"
      ],
      "metadata": {
        "id": "TAcbm1Cn_wfb"
      }
    },
    {
      "cell_type": "code",
      "source": [
        "line1 = [\"⬜️\",\"️⬜️\",\"️⬜️\"]\n",
        "line2 = [\"⬜️\",\"⬜️\",\"️⬜️\"]\n",
        "line3 = [\"⬜️️\",\"⬜️️\",\"⬜️️\"]\n",
        "map = [line1, line2, line3]\n",
        "print(\"Hiding your treasure! X marks the spot.\")\n",
        "position = input() # Where do you want to put the treasure?\n",
        "# Your code below\n",
        "letter = position[0].lower()\n",
        "abc = [\"a\", \"b\", \"c\"]\n",
        "letter_index = abc.index(letter)\n",
        "number_index = int(position[1]) - 1\n",
        "map[number_index][letter_index] = \"X\"\n",
        "\n",
        "print(f\"{line1}\\n{line2}\\n{line3}\")"
      ],
      "metadata": {
        "colab": {
          "base_uri": "https://localhost:8080/"
        },
        "id": "sCbnwLwl_5-d",
        "outputId": "b5a892c5-30f2-4076-9258-25346c45147c"
      },
      "execution_count": null,
      "outputs": [
        {
          "output_type": "stream",
          "name": "stdout",
          "text": [
            "Hiding your treasure! X marks the spot.\n",
            "B3\n",
            "['⬜️', '️⬜️', '️⬜️']\n",
            "['⬜️', '⬜️', '️⬜️']\n",
            "['⬜️️', 'X', '⬜️️']\n"
          ]
        }
      ]
    },
    {
      "cell_type": "markdown",
      "source": [
        "#FIZZBUZZ"
      ],
      "metadata": {
        "id": "uT9LrybjwIDw"
      }
    },
    {
      "cell_type": "code",
      "source": [
        "for i in range(1,101):\n",
        "  if i%3==0 and i%5 ==0:\n",
        "    print(\"FizzBuzz\")\n",
        "  elif i%5 ==0:\n",
        "    print(\"Buzz\")\n",
        "  elif i%3==0 :\n",
        "    print(\"Fizz\")\n",
        "  else:\n",
        "    print(i)"
      ],
      "metadata": {
        "id": "q15wVeNCwRbQ"
      },
      "execution_count": null,
      "outputs": []
    },
    {
      "cell_type": "markdown",
      "source": [
        "# SQUARING NUMBERS\n",
        "\n"
      ],
      "metadata": {
        "id": "k7JhfQ4OwUph"
      }
    },
    {
      "cell_type": "code",
      "source": [
        "numbers = [1, 1, 2, 3, 5, 8, 13, 21, 34, 55]\n",
        "squared_numbers=[]\n",
        "for i in numbers:\n",
        "  i=i*i\n",
        "  squared_numbers.append(i)\n",
        "print(squared_numbers)\n"
      ],
      "metadata": {
        "colab": {
          "base_uri": "https://localhost:8080/"
        },
        "id": "5AZWazurTuKW",
        "outputId": "36cd6e63-168d-4e9d-e668-1a9ee43f3f24"
      },
      "execution_count": null,
      "outputs": [
        {
          "output_type": "stream",
          "name": "stdout",
          "text": [
            "[1, 1, 4, 9, 25, 64, 169, 441, 1156, 3025]\n"
          ]
        }
      ]
    },
    {
      "cell_type": "code",
      "source": [
        "result = [x * x for x in numbers ]\n",
        "print(result)"
      ],
      "metadata": {
        "colab": {
          "base_uri": "https://localhost:8080/"
        },
        "id": "NOhXZjAnT6bZ",
        "outputId": "cf64869b-3315-4dfa-e515-79be3bb3e3ec"
      },
      "execution_count": null,
      "outputs": [
        {
          "output_type": "stream",
          "name": "stdout",
          "text": [
            "[1, 1, 4, 9, 25, 64, 169, 441, 1156, 3025]\n"
          ]
        }
      ]
    },
    {
      "cell_type": "markdown",
      "source": [
        "#Filtering even numbers"
      ],
      "metadata": {
        "id": "0akEJmIK-RvK"
      }
    },
    {
      "cell_type": "code",
      "source": [
        "list_of_strings = input().split(',')\n",
        "nums = [int(i) for i in list_of_strings]\n",
        "result = [x for x in nums if x%2==0]\n",
        "print(result)"
      ],
      "metadata": {
        "colab": {
          "base_uri": "https://localhost:8080/"
        },
        "id": "XXd7QI01-UGn",
        "outputId": "7e28f011-a0af-4964-cb07-d3b5890ab23e"
      },
      "execution_count": null,
      "outputs": [
        {
          "output_type": "stream",
          "name": "stdout",
          "text": [
            "12,13,14,15,16,17\n",
            "[12, 14, 16]\n"
          ]
        }
      ]
    },
    {
      "cell_type": "markdown",
      "source": [
        "#DAYS IN MONTH"
      ],
      "metadata": {
        "id": "cUqAuRGNxvOa"
      }
    },
    {
      "cell_type": "code",
      "source": [
        "def is_leap(year):\n",
        "\n",
        "  if year % 4 == 0:\n",
        "    if year % 100 == 0:\n",
        "      if year % 400 == 0:\n",
        "        return True\n",
        "      else:\n",
        "        return False\n",
        "    else:\n",
        "      return True\n",
        "  else:\n",
        "    return False\n",
        "\n",
        "def days_in_month(year,month):\n",
        "  month_days = [31, 28, 31, 30, 31, 30, 31, 31, 30, 31, 30, 31]\n",
        "  if year %2 == 0 and is_leap(year) == True:\n",
        "    return 29\n",
        "  else:\n",
        "    return month_days[month -1 ]\n",
        "\n",
        "\n",
        "year = int(input()) # Enter a year\n",
        "month = int(input()) # Enter a month\n",
        "days = days_in_month(year, month)\n",
        "print(days)\n",
        "\n"
      ],
      "metadata": {
        "id": "uCjwjKB2BMg8"
      },
      "execution_count": null,
      "outputs": []
    },
    {
      "cell_type": "markdown",
      "source": [
        "#FILTERING EVEN NUMBERS"
      ],
      "metadata": {
        "id": "pfouTUyhcr-l"
      }
    },
    {
      "cell_type": "code",
      "source": [
        "list_of_strings = input().split(',')\n",
        "\n",
        "nums = [int(i) for i in list_of_strings]\n",
        "\n",
        "result = [x for x in nums if x%2==0]\n",
        "\n",
        "print(result)"
      ],
      "metadata": {
        "colab": {
          "base_uri": "https://localhost:8080/"
        },
        "id": "C123PnZTcOnQ",
        "outputId": "98209bec-3f46-46ae-dd87-46a1c1ccc66c"
      },
      "execution_count": null,
      "outputs": [
        {
          "output_type": "stream",
          "name": "stdout",
          "text": [
            "1, 1, 2, 3, 5, 8, 13, 21, 34, 55\n",
            "[2, 8, 34]\n"
          ]
        }
      ]
    },
    {
      "cell_type": "markdown",
      "source": [
        "#SQUARING NUMBERS"
      ],
      "metadata": {
        "id": "VhbYnx4AuXwN"
      }
    },
    {
      "cell_type": "code",
      "source": [
        "numbers = [1, 1, 2, 3, 5, 8, 13, 21, 34, 55]\n",
        "\n",
        "squared_numbers=[]\n",
        "for i in numbers:\n",
        "  i=i*i\n",
        "  squared_numbers.append(i)\n",
        "\n",
        "print(squared_numbers)"
      ],
      "metadata": {
        "colab": {
          "base_uri": "https://localhost:8080/"
        },
        "id": "a1cSWBIAuaV8",
        "outputId": "62b40386-08a2-4693-b5da-709928b17915"
      },
      "execution_count": null,
      "outputs": [
        {
          "output_type": "stream",
          "name": "stdout",
          "text": [
            "[1, 1, 4, 9, 25, 64, 169, 441, 1156, 3025]\n"
          ]
        }
      ]
    },
    {
      "cell_type": "markdown",
      "source": [
        "#Question\n",
        "As an analyst, you had to present the quarterly performance results of your client. The data which you were provided was on daily basis. To complete this task, you needed to extract the quarter from a given date. For example:\n",
        "\n",
        "if the date lies between 1st Jan, 2020 - 31st March, 2020, you need to extract the corresponding quarter as '2020-Q1'\n",
        "\n",
        "if the date lies between 1st April, 2020 - 30th June, 2020, the extracted quarter will be '2020-Q2'\n",
        "\n",
        "if the date lies between 1st July, 2020 - 30th September, 2020, the extracted quarter will be '2020-Q3'\n",
        "\n",
        "if the date lies between 1st October, 2020 - 31st Decemeber, 2020 then the extracted quarter will be '2020-Q4'"
      ],
      "metadata": {
        "id": "Zr6DzNbwtwjp"
      }
    },
    {
      "cell_type": "code",
      "source": [
        "user_date = input()"
      ],
      "metadata": {
        "colab": {
          "base_uri": "https://localhost:8080/"
        },
        "id": "_I5sYBEjuw-a",
        "outputId": "1cf24958-ed23-4718-b51b-f67ee97f4669"
      },
      "execution_count": null,
      "outputs": [
        {
          "name": "stdout",
          "output_type": "stream",
          "text": [
            "2020-05-12\n"
          ]
        }
      ]
    },
    {
      "cell_type": "code",
      "source": [
        "date_year = user_date[:4]\n",
        "date_month = user_date[5:7]\n",
        "\n",
        "if (date_month >= '01') & (date_month <='03'):\n",
        "    quarter = date_year + '-Q1'\n",
        "elif (date_month >= '04') & (date_month <='06'):\n",
        "    quarter = date_year + '-Q2'\n",
        "elif (date_month >= '07') & (date_month <='09'):\n",
        "    quarter = date_year + '-Q3'\n",
        "else:\n",
        "    quarter = date_year + '-Q4'"
      ],
      "metadata": {
        "id": "mk7X7_C-uzsX"
      },
      "execution_count": null,
      "outputs": []
    },
    {
      "cell_type": "code",
      "source": [
        "print(quarter)"
      ],
      "metadata": {
        "id": "pd1_zRscu5-l"
      },
      "execution_count": null,
      "outputs": []
    },
    {
      "cell_type": "markdown",
      "source": [
        "#Question\n",
        "You went out in your local neighbourhood to collect the data of people residing in the locale. You surveyed 5 people and collected some data and stored that in a dictionary. You recorded their names, their age, their sex, their heights(in cms) and their weights(in kgs)"
      ],
      "metadata": {
        "id": "l50C42lAQCHn"
      }
    },
    {
      "cell_type": "code",
      "source": [
        "locality_data = {'Name' : ['Abhinav','Sohail','Dheeraj','Rashmi','Vaishali'],\n",
        "                  'Age' : [42,29,35,28,32],\n",
        "                  'Sex' : ['Male', 'Male','Male','Female','Female'] ,\n",
        "                  'Height' : [172,175,170,168,170],\n",
        "                  'Weight' : [70,82,60,55,64]\n",
        "                 }"
      ],
      "metadata": {
        "id": "gqMNa_8KQFWM"
      },
      "execution_count": null,
      "outputs": []
    },
    {
      "cell_type": "code",
      "source": [
        "heights = locality_data['Height']\n",
        "mean_height = sum(heights)/len(heights)\n",
        "print(mean_height)\n",
        "\n",
        "\n",
        "# Calculate the median height and print it\n",
        "sorted_heights = sorted(heights)\n",
        "median_height = sorted_heights[int((len(sorted_heights)+1)/2) - 1]\n",
        "print(median_height)\n",
        "\n",
        "\n",
        "\n",
        "# Calculate the mean weight and print it\n",
        "weights = locality_data['Weight']\n",
        "# Calculate the mean of the weights\n",
        "mean_weight = sum(weights)/len(weights)\n",
        "print(mean_weight)\n",
        "\n",
        "\n",
        "# Calculate the median height and print it\n",
        "sorted_weights = sorted(weights)\n",
        "median_weight = sorted_weights[int((len(sorted_weights)+1)/2 )- 1]\n",
        "print(median_weight)"
      ],
      "metadata": {
        "id": "TzeIr9o4QJJA"
      },
      "execution_count": null,
      "outputs": []
    },
    {
      "cell_type": "markdown",
      "source": [
        "# Question\n",
        "A student will not be allowed to sit in exam if his/her attendence is less than 75%.\n",
        "Take following input from user\n",
        "\n",
        "Number of classes held\n",
        "\n",
        "Number of classes attended."
      ],
      "metadata": {
        "id": "cbDfVcy-zU8Y"
      }
    },
    {
      "cell_type": "code",
      "source": [
        "print(\"Number of classes held\")\n",
        "classes_held = int(input())\n",
        "\n",
        "print(\"Number of classes attended\")\n",
        "classes_attended = int(input())"
      ],
      "metadata": {
        "colab": {
          "base_uri": "https://localhost:8080/"
        },
        "id": "R2bvCqQIze-A",
        "outputId": "20aa8cb5-0141-496e-c0d4-e3de9b368594"
      },
      "execution_count": null,
      "outputs": [
        {
          "name": "stdout",
          "output_type": "stream",
          "text": [
            "Number of classes held\n",
            "20\n",
            "Number of classes attended\n",
            "15\n"
          ]
        }
      ]
    },
    {
      "cell_type": "code",
      "source": [
        "# Calculate the attendance percentage\n",
        "attendance = classes_attended*100/classes_held"
      ],
      "metadata": {
        "id": "GuUPD0MzzhPH"
      },
      "execution_count": null,
      "outputs": []
    },
    {
      "cell_type": "code",
      "source": [
        "print(f'Percentage of class attended is {attendance}')\n",
        "\n",
        "if attendance < 75:\n",
        "  print(\"You are not allowed to sit in the exam\")\n",
        "else:\n",
        "  print(\"You are allowed to sit in the exam\")"
      ],
      "metadata": {
        "id": "r97Hy3A4zmJk"
      },
      "execution_count": null,
      "outputs": []
    },
    {
      "cell_type": "markdown",
      "source": [
        "#Question\n",
        "A school has following rules for grading system:\n",
        "\n",
        "Below 25 - F\n",
        "\n",
        "25 to 45 - E\n",
        "\n",
        "45 to 50 - D\n",
        "\n",
        "50 to 60 - C\n",
        "\n",
        "60 to 80 - B\n",
        "\n",
        "Above 80 - A\n",
        "\n",
        "Write a Python code which takes marks as inputs from the user and print the corresponding grade."
      ],
      "metadata": {
        "id": "yQVAKZ0rjIFp"
      }
    },
    {
      "cell_type": "code",
      "source": [
        "# Your input here\n",
        "print(\"Enter your marks\")\n",
        "marks = int(input())"
      ],
      "metadata": {
        "id": "hN3earWfjMHY"
      },
      "execution_count": null,
      "outputs": []
    },
    {
      "cell_type": "code",
      "source": [
        "# Your coder here to print the corresponding grade\n",
        "\n",
        "if marks<25:\n",
        "  print(\"F\")\n",
        "elif marks>=25 and marks<45:\n",
        "  print(\"E\")\n",
        "elif marks>=45 and marks<50:\n",
        "  print(\"D\")\n",
        "elif marks>=50 and marks<60:\n",
        "  print(\"C\")\n",
        "elif marks>=60 and marks<80:\n",
        "  print(\"B\")\n",
        "else:\n",
        "  print(\"A\")"
      ],
      "metadata": {
        "id": "uRbYGAtxjOGh"
      },
      "execution_count": null,
      "outputs": []
    },
    {
      "cell_type": "markdown",
      "source": [
        "#Question\n",
        "Create a dictionary where the key corresponds to the position of the alphabet(consider space as the first alphabet) and the value corresponding to the key will be the alphabet.\n",
        "\n",
        "range() function in Python is pretty useful to get a list of numbers in sequence. You can use help(range) to know more about its details"
      ],
      "metadata": {
        "id": "dxK1_xkxjTyq"
      }
    },
    {
      "cell_type": "code",
      "source": [
        "# Create a list of numbers from 0 to 26 using the range() function\n",
        "list_of_numbers = list(range(27))\n",
        "\n",
        "# Create the list of alphabets. Hint use the split() method\n",
        "alphabets = \" ,a,b,c,d,e,f,g,h,i,j,k,l,m,n,o,p,q,r,s,t,u,v,w,x,y,z\"\n",
        "alphabet_list =\n",
        "\n",
        "print(alphabet_list)\n",
        "# Create a dictionary by zipping together the above two lists\n",
        "alphabet_dict =\n",
        "\n",
        "\n",
        "# Print your dictionary to double check;\n",
        "print(alphabet_dict)"
      ],
      "metadata": {
        "id": "C3U7JS48jW-j"
      },
      "execution_count": null,
      "outputs": []
    },
    {
      "cell_type": "markdown",
      "source": [
        "#Question\n",
        "Natural Language Processing or NLP is one of the most promising fields in Machine Learning. Most of the times in NLP we deal with the textual data (a bunch of strings). Sometimes when we are processing the text, it is a common practice to get rid of some set of stop words from our original text. By default stop words are very common words used in English language such as and, or, punctuations etc.\n",
        "\n",
        "In this exercise, you are provided with a default set of stop words and you need to add some extra set of custom words."
      ],
      "metadata": {
        "id": "vRSI6IO7-Bqm"
      }
    },
    {
      "cell_type": "code",
      "source": [
        "# Default set of stop words\n",
        "stop_words = {\"i\", \"me\", \"my\", \"myself\", \"we\", \"our\", \"ours\", \"ourselves\", \"you\", \"your\", \"yours\", \"yourself\",\n",
        "              \"yourselves\", \"he\", \"him\", \"his\", \"himself\", \"she\", \"her\", \"hers\", \"herself\", \"it\", \"its\", \"itself\",\n",
        "              \"they\", \"them\", \"their\", \"theirs\", \"themselves\", \"what\", \"which\", \"who\", \"whom\", \"this\", \"that\",\n",
        "              \"these\", \"those\", \"am\", \"is\", \"are\", \"was\", \"were\", \"be\", \"been\", \"being\", \"have\", \"has\", \"had\",\n",
        "              \"having\", \"do\", \"does\", \"did\", \"doing\", \"a\", \"an\", \"the\", \"and\", \"but\", \"if\", \"or\", \"because\",\n",
        "              \"as\", \"until\", \"while\", \"of\", \"at\", \"by\", \"for\", \"with\", \"about\", \"against\", \"between\", \"into\",\n",
        "              \"through\", \"during\", \"before\", \"after\", \"above\", \"below\", \"to\", \"from\", \"up\", \"down\", \"in\", \"out\",\n",
        "              \"on\", \"off\", \"over\", \"under\", \"again\", \"further\", \"then\", \"once\", \"here\", \"there\", \"when\", \"where\",\n",
        "              \"why\", \"how\", \"all\", \"any\", \"both\", \"each\", \"few\", \"more\", \"most\", \"other\", \"some\", \"such\", \"no\",\n",
        "              \"nor\", \"not\", \"only\", \"own\", \"same\", \"so\", \"than\", \"too\", \"very\", \"s\", \"t\", \"can\", \"will\", \"just\",\n",
        "              \"don\", \"should\", \"now\"}\n"
      ],
      "metadata": {
        "id": "bx-HMzB1-DN0"
      },
      "execution_count": null,
      "outputs": []
    },
    {
      "cell_type": "code",
      "source": [
        "# Update the set of stop words by adding the custom stop words\n",
        "custom_stop_words = set([\"hello\",\"good\",\"morning\",\"half\",\"yearly\"])\n",
        "\n",
        "# Your code here\n",
        "stop_words.update(custom_stop_words)\n",
        "\n",
        "# Print the updated stop words\n",
        "print('hello' in stop_words)\n",
        "print(stop_words)"
      ],
      "metadata": {
        "colab": {
          "base_uri": "https://localhost:8080/"
        },
        "id": "FXouf_Oi5lTe",
        "outputId": "99baf507-269f-429c-952a-4fd16c9774e3"
      },
      "execution_count": null,
      "outputs": [
        {
          "output_type": "stream",
          "name": "stdout",
          "text": [
            "True\n",
            "{'which', 'ourselves', 'all', 'once', 'how', 'i', 'the', 'into', 'because', 'it', 'during', 'nor', 'too', 'when', 'of', 'themselves', 'its', 'most', 'myself', 'their', 'to', 'further', 'an', 'until', 'where', 'off', 's', 'any', 'his', 'are', 'he', 'while', 'good', 'yearly', 'did', 'you', 'those', 'more', 'do', 'up', 'just', 'few', 'these', 'if', 'him', 'after', 'here', 'a', 'our', 'below', 'no', 'own', 'by', 'for', 'is', 'down', 'hello', 'were', 'ours', 'has', 'now', 'so', 'they', 'having', 'herself', 'her', 'as', 'had', 'half', 'over', 'there', 'me', 'against', 'can', 'again', 'don', 'whom', 'same', 'out', 'with', 'only', 'such', 'yours', 'will', 'was', 'yourselves', 'have', 'hers', 'we', 'why', 'theirs', 'your', 'be', 'then', 'but', 'under', 'other', 'am', 'this', 'between', 'both', 'them', 'on', 'and', 'yourself', 'above', 'through', 'himself', 'does', 'that', 'been', 'who', 'not', 'from', 'than', 'should', 't', 'some', 'itself', 'in', 'she', 'about', 'my', 'being', 'before', 'what', 'doing', 'or', 'each', 'at', 'very', 'morning'}\n"
          ]
        }
      ]
    },
    {
      "cell_type": "code",
      "source": [
        "# Do the same task another way. Keep in mind to use the original set of stop_words for this piece of code\n",
        "stop_words.intersection(custom_stop_words)\n",
        "\n",
        "# Print the updated stop words\n",
        "print('hello' in stop_words)\n",
        "print(stop_words)"
      ],
      "metadata": {
        "colab": {
          "base_uri": "https://localhost:8080/"
        },
        "id": "lhXQwPkL5oA8",
        "outputId": "2b1c5ebf-e3aa-402b-8b31-2cc7a14613a1"
      },
      "execution_count": null,
      "outputs": [
        {
          "output_type": "stream",
          "name": "stdout",
          "text": [
            "True\n",
            "{'which', 'ourselves', 'all', 'once', 'how', 'i', 'the', 'into', 'because', 'it', 'during', 'nor', 'too', 'when', 'of', 'themselves', 'its', 'most', 'myself', 'their', 'to', 'further', 'an', 'until', 'where', 'off', 's', 'any', 'his', 'are', 'he', 'while', 'good', 'yearly', 'did', 'you', 'those', 'more', 'do', 'up', 'just', 'few', 'these', 'if', 'him', 'after', 'here', 'a', 'our', 'below', 'no', 'own', 'by', 'for', 'is', 'down', 'hello', 'were', 'ours', 'has', 'now', 'so', 'they', 'having', 'herself', 'her', 'as', 'had', 'half', 'over', 'there', 'me', 'against', 'can', 'again', 'don', 'whom', 'same', 'out', 'with', 'only', 'such', 'yours', 'will', 'was', 'yourselves', 'have', 'hers', 'we', 'why', 'theirs', 'your', 'be', 'then', 'but', 'under', 'other', 'am', 'this', 'between', 'both', 'them', 'on', 'and', 'yourself', 'above', 'through', 'himself', 'does', 'that', 'been', 'who', 'not', 'from', 'than', 'should', 't', 'some', 'itself', 'in', 'she', 'about', 'my', 'being', 'before', 'what', 'doing', 'or', 'each', 'at', 'very', 'morning'}\n"
          ]
        }
      ]
    },
    {
      "cell_type": "markdown",
      "source": [
        "# Question\n",
        "Mode is defined as the value that appears most often in a set of data values.\n",
        "Mode corresponds to the most frequent value.\n",
        "You are given a list of numbers and you need to calculate the mode of this list"
      ],
      "metadata": {
        "id": "GDFZVD775r4E"
      }
    },
    {
      "cell_type": "code",
      "source": [
        "# A list containing average daily temperature over 10 days\n",
        "temperatures = [34, 40, 29, 33, 42, 40, 39, 34, 34,33 ]"
      ],
      "metadata": {
        "id": "rLFntuHH5tt7"
      },
      "execution_count": null,
      "outputs": []
    },
    {
      "cell_type": "code",
      "source": [
        "unique_temperatures = list(set(temperatures))"
      ],
      "metadata": {
        "id": "uqvsoc60-aHe"
      },
      "execution_count": null,
      "outputs": []
    },
    {
      "cell_type": "code",
      "source": [
        "print(unique_temperatures)"
      ],
      "metadata": {
        "colab": {
          "base_uri": "https://localhost:8080/"
        },
        "id": "T9DA88D4-bb0",
        "outputId": "0c1b04d4-0838-42a6-9485-b29b93a8241e"
      },
      "execution_count": null,
      "outputs": [
        {
          "output_type": "stream",
          "name": "stdout",
          "text": [
            "[33, 34, 39, 40, 42, 29]\n"
          ]
        }
      ]
    },
    {
      "cell_type": "code",
      "source": [
        "temp_dict = {}\n",
        "\n",
        "# Set the values for each key separately\n",
        "# First key\n",
        "key= unique_temperatures[0]\n",
        "temp_dict[key]= temperatures.count(key)\n",
        "\n",
        "# Second key\n",
        "key= unique_temperatures[1]\n",
        "temp_dict[key]= temperatures.count(key)\n",
        "\n",
        "\n",
        "# Third key\n",
        "key= unique_temperatures[2]\n",
        "temp_dict[key]= temperatures.count(key)\n",
        "\n",
        "\n",
        "# Fourth key\n",
        "key= unique_temperatures[3]\n",
        "temp_dict[key]= temperatures.count(key)\n",
        "\n",
        "\n",
        "# Fifth key\n",
        "key= unique_temperatures[4]\n",
        "temp_dict[key]= temperatures.count(key)\n",
        "\n",
        "\n",
        "# Sixth key\n",
        "key= unique_temperatures[5]\n",
        "temp_dict[key]= temperatures.count(key)\n",
        "\n",
        "print(temp_dict)"
      ],
      "metadata": {
        "colab": {
          "base_uri": "https://localhost:8080/"
        },
        "id": "7fy3JqrL-c87",
        "outputId": "2edcdd22-feeb-4efa-b033-6bb45cd2a4bc"
      },
      "execution_count": null,
      "outputs": [
        {
          "output_type": "stream",
          "name": "stdout",
          "text": [
            "{33: 2, 34: 3, 39: 1, 40: 2, 42: 1, 29: 1}\n"
          ]
        }
      ]
    },
    {
      "cell_type": "code",
      "source": [
        "temp_dict_frequencies = list(temp_dict.values())\n",
        "\n",
        "# Print the list of dictionary values\n",
        "print(f'The values of temp_dict are {temp_dict_frequencies}')\n",
        "\n",
        "# Find the index of the most frequent temperature value\n",
        "max_count= max(temp_dict_frequencies)\n",
        "\n",
        "most_frequent_temp_index = temp_dict_frequencies.index(max_count)\n",
        "\n",
        "# Print the index\n",
        "a=(f'the index of most frequent temperature value is {most_frequent_temp_index}')\n",
        "print(a.capitalize())       #just trying..."
      ],
      "metadata": {
        "colab": {
          "base_uri": "https://localhost:8080/"
        },
        "id": "LUGBXL9J-gX7",
        "outputId": "190563ef-e2b8-4495-bb6a-d7d7f056d10b"
      },
      "execution_count": null,
      "outputs": [
        {
          "output_type": "stream",
          "name": "stdout",
          "text": [
            "The values of temp_dict are [2, 3, 1, 2, 1, 1]\n",
            "The index of most frequent temperature value is 1\n"
          ]
        }
      ]
    },
    {
      "cell_type": "code",
      "source": [
        "temp_dict_keys = list(temp_dict.keys())\n",
        "\n",
        "# Print the list of dictionary keys\n",
        "print(temp_dict_keys)\n",
        "\n",
        "# Calculate the mode temperature\n",
        "mode_temp =  temp_dict_keys[most_frequent_temp_index]\n",
        "print(f'The mode of the temperatures is {mode_temp}')"
      ],
      "metadata": {
        "colab": {
          "base_uri": "https://localhost:8080/"
        },
        "id": "1hcOq8au-ktU",
        "outputId": "3484cb17-d768-43af-eb3a-f9d150116c6d"
      },
      "execution_count": null,
      "outputs": [
        {
          "output_type": "stream",
          "name": "stdout",
          "text": [
            "[33, 34, 39, 40, 42, 29]\n",
            "The mode of the temperatures is 34\n"
          ]
        }
      ]
    },
    {
      "cell_type": "markdown",
      "source": [
        "#Question\n",
        "You are given a list of tuples. You need to replace the last element of the last tuple"
      ],
      "metadata": {
        "id": "UG3Mk6fH-m5i"
      }
    },
    {
      "cell_type": "code",
      "source": [
        "list_of_tuples = [(10,20,30),(30,40,50),(50,60,70)]"
      ],
      "metadata": {
        "id": "GzwHjZQf-ocl"
      },
      "execution_count": null,
      "outputs": []
    },
    {
      "cell_type": "code",
      "source": [
        "a=list_of_tuples[::-1]\n",
        "a.append((50,60,100))\n",
        "print(a)"
      ],
      "metadata": {
        "colab": {
          "base_uri": "https://localhost:8080/"
        },
        "id": "l5cd79c5w0Y1",
        "outputId": "ef2c0a87-1e7c-41a7-a98b-433e61daa8e4"
      },
      "execution_count": null,
      "outputs": [
        {
          "output_type": "stream",
          "name": "stdout",
          "text": [
            "[(50, 60, 70), (30, 40, 50), (10, 20, 30), (50, 60, 100)]\n"
          ]
        }
      ]
    },
    {
      "cell_type": "code",
      "source": [],
      "metadata": {
        "id": "xFpAxPw5w2lJ"
      },
      "execution_count": null,
      "outputs": []
    },
    {
      "cell_type": "markdown",
      "source": [
        "#Question\n",
        "Write a Python script to check whether a given key already exists in a dictionary. If it does, drop that key from the dictionary. If it does not, add that key and corresponding value to the dictionary"
      ],
      "metadata": {
        "id": "K9IRS3V5w5pQ"
      }
    },
    {
      "cell_type": "code",
      "source": [
        "employee_dict = {'Name':'Sanket','Skills':['Python','Machine Learning','Deep Learning'],'Band':6.0,\n",
        "                 'Promotion Year':[2016,2018,2020]}"
      ],
      "metadata": {
        "id": "5NWmRLDzw7dM"
      },
      "execution_count": null,
      "outputs": []
    },
    {
      "cell_type": "code",
      "source": [
        "'Employee_ID' in employee_dict\n",
        "\n",
        "# If not present add this key to this dictionary and the corresponding value to be 4503233\n",
        "employee_dict.update({\n",
        "    'Employee_ID' : 4503233\n",
        "})\n",
        "print(employee_dict)"
      ],
      "metadata": {
        "colab": {
          "base_uri": "https://localhost:8080/"
        },
        "id": "w8pKtXJBYNVI",
        "outputId": "6c434176-22a8-4dbe-9fae-b606a5a7c111"
      },
      "execution_count": null,
      "outputs": [
        {
          "output_type": "stream",
          "name": "stdout",
          "text": [
            "{'Name': 'Sanket', 'Skills': ['Python', 'Machine Learning', 'Deep Learning'], 'Band': 6.0, 'Promotion Year': [2016, 2018, 2020], 'Employee_ID': 4503233}\n"
          ]
        }
      ]
    },
    {
      "cell_type": "code",
      "source": [
        "'Band' in employee_dict\n",
        "\n",
        "# If present, drop this key from the dictionary\n",
        "employee_dict.pop('Band')\n",
        "print(employee_dict)"
      ],
      "metadata": {
        "colab": {
          "base_uri": "https://localhost:8080/"
        },
        "id": "Tigcme2TYP3f",
        "outputId": "c77f76f2-9d61-4d5a-9175-1468a2ea2553"
      },
      "execution_count": null,
      "outputs": [
        {
          "output_type": "stream",
          "name": "stdout",
          "text": [
            "{'Name': 'Sanket', 'Skills': ['Python', 'Machine Learning', 'Deep Learning'], 'Promotion Year': [2016, 2018, 2020], 'Employee_ID': 4503233}\n"
          ]
        }
      ]
    },
    {
      "cell_type": "code",
      "source": [
        "print(employee_dict)"
      ],
      "metadata": {
        "colab": {
          "base_uri": "https://localhost:8080/"
        },
        "id": "uX2nnFXTYSSk",
        "outputId": "c306f433-2738-4095-910d-7753ec9f8a0d"
      },
      "execution_count": null,
      "outputs": [
        {
          "output_type": "stream",
          "name": "stdout",
          "text": [
            "{'Name': 'Sanket', 'Skills': ['Python', 'Machine Learning', 'Deep Learning'], 'Promotion Year': [2016, 2018, 2020], 'Employee_ID': 4503233}\n"
          ]
        }
      ]
    },
    {
      "cell_type": "markdown",
      "source": [
        "#Question\n",
        "calendar library"
      ],
      "metadata": {
        "id": "x-P7HLKwYWBF"
      }
    },
    {
      "cell_type": "code",
      "source": [
        "import calendar\n",
        "yy = int(input(\"enter year\"))\n",
        "mm = int(input(\"enter month\"))\n",
        "yy = yy\n",
        "mm = mm\n",
        "print(calendar.month(yy,mm))"
      ],
      "metadata": {
        "id": "Ruu4mvyRYXnU",
        "colab": {
          "base_uri": "https://localhost:8080/"
        },
        "outputId": "add70c7e-a290-4fbe-e0bd-6580dff0ade7"
      },
      "execution_count": null,
      "outputs": [
        {
          "output_type": "stream",
          "name": "stdout",
          "text": [
            "enter year2023\n",
            "enter month12\n",
            "   December 2023\n",
            "Mo Tu We Th Fr Sa Su\n",
            "             1  2  3\n",
            " 4  5  6  7  8  9 10\n",
            "11 12 13 14 15 16 17\n",
            "18 19 20 21 22 23 24\n",
            "25 26 27 28 29 30 31\n",
            "\n"
          ]
        }
      ]
    },
    {
      "cell_type": "markdown",
      "source": [
        "#Question\n",
        "You are given a sentence : \"I have been walking and running and dancing and smiling and laughing all my life, yet it all seems pointless.\"\n",
        "\n",
        "You are required to extract all those words from this sentence in a list which ends with ing"
      ],
      "metadata": {
        "id": "AoAsy8FVjpaf"
      }
    },
    {
      "cell_type": "code",
      "source": [
        "my_sentence = \"I have been walking and running and dancing and smiling and laughing all my life, yet it all seems pointless.\""
      ],
      "metadata": {
        "id": "fKEmoNJEprwE"
      },
      "execution_count": null,
      "outputs": []
    },
    {
      "cell_type": "code",
      "source": [
        "# Using list comprehension, extract those words which ends with ing\n",
        "\n",
        "all_words_in_sentence = my_sentence.split(' ')\n",
        "print(str(all_words_in_sentence))\n",
        "\n",
        "# Words ending with ing\n",
        "words_ending_with_ing = [ word for word in all_words_in_sentence if word[-3:]=='ing']\n",
        "\n",
        "# Print those words\n",
        "print(words_ending_with_ing)"
      ],
      "metadata": {
        "id": "KsMq_RxJjqh1",
        "colab": {
          "base_uri": "https://localhost:8080/"
        },
        "outputId": "0897a422-d909-45e1-da1b-562d7a6b14f8"
      },
      "execution_count": null,
      "outputs": [
        {
          "output_type": "stream",
          "name": "stdout",
          "text": [
            "['I', 'have', 'been', 'walking', 'and', 'running', 'and', 'dancing', 'and', 'smiling', 'and', 'laughing', 'all', 'my', 'life,', 'yet', 'it', 'all', 'seems', 'pointless.']\n",
            "['walking', 'running', 'dancing', 'smiling', 'laughing']\n"
          ]
        }
      ]
    },
    {
      "cell_type": "markdown",
      "source": [
        "#Question\n",
        "you are provided with a default set of stop words and you need to add some extra set of custom words and remove these words from the given sentence and obtain the sentence without the stop words"
      ],
      "metadata": {
        "id": "qVml_KGSpjFB"
      }
    },
    {
      "cell_type": "code",
      "source": [
        "# A sample sentence\n",
        "\n",
        "sentence = 'Hello, good morning folks! Today we will announce the half yearly performance results of the company. Due to the ongoing COVID-19 pandemic, our profits have declined by 60% as compared to the last year'\n",
        "\n",
        "# Print your sentence\n",
        "print(sentence)"
      ],
      "metadata": {
        "id": "ViFEgydspksG"
      },
      "execution_count": null,
      "outputs": []
    },
    {
      "cell_type": "code",
      "source": [
        "# Default set of stop words\n",
        "stop_words = {\"i\", \"me\", \"my\", \"myself\", \"we\", \"our\", \"ours\", \"ourselves\", \"you\", \"your\", \"yours\", \"yourself\",\n",
        "              \"yourselves\", \"he\", \"him\", \"his\", \"himself\", \"she\", \"her\", \"hers\", \"herself\", \"it\", \"its\", \"itself\",\n",
        "              \"they\", \"them\", \"their\", \"theirs\", \"themselves\", \"what\", \"which\", \"who\", \"whom\", \"this\", \"that\",\n",
        "              \"these\", \"those\", \"am\", \"is\", \"are\", \"was\", \"were\", \"be\", \"been\", \"being\", \"have\", \"has\", \"had\",\n",
        "              \"having\", \"do\", \"does\", \"did\", \"doing\", \"a\", \"an\", \"the\", \"and\", \"but\", \"if\", \"or\", \"because\",\n",
        "              \"as\", \"until\", \"while\", \"of\", \"at\", \"by\", \"for\", \"with\", \"about\", \"against\", \"between\", \"into\",\n",
        "              \"through\", \"during\", \"before\", \"after\", \"above\", \"below\", \"to\", \"from\", \"up\", \"down\", \"in\", \"out\",\n",
        "              \"on\", \"off\", \"over\", \"under\", \"again\", \"further\", \"then\", \"once\", \"here\", \"there\", \"when\", \"where\",\n",
        "              \"why\", \"how\", \"all\", \"any\", \"both\", \"each\", \"few\", \"more\", \"most\", \"other\", \"some\", \"such\", \"no\",\n",
        "              \"nor\", \"not\", \"only\", \"own\", \"same\", \"so\", \"than\", \"too\", \"very\", \"s\", \"t\", \"can\", \"will\", \"just\",\n",
        "              \"don\", \"should\", \"now\"}"
      ],
      "metadata": {
        "id": "sV9zOaQZwoZC"
      },
      "execution_count": null,
      "outputs": []
    },
    {
      "cell_type": "code",
      "source": [
        "# Update the set of stop words by adding the custom stop words\n",
        "custom_stop_words = [\"hello\",\"good\",\"morning\",\"half\",\"year\"]\n",
        "\n",
        "# Your code here\n",
        "stop_words.update(custom_stop_words)\n",
        "\n",
        "# Print the stop words in a sorted manner\n",
        "stop_word_list = list(sorted(stop_words))\n",
        "print(stop_word_list)"
      ],
      "metadata": {
        "id": "LbEtAC4ewqXc"
      },
      "execution_count": null,
      "outputs": []
    },
    {
      "cell_type": "code",
      "source": [
        "# Create the list of words in the given sentence\n",
        "words_in_sentence = sentence.replace('!', '').replace(',', '').split(' ')\n",
        "print(words_in_sentence)"
      ],
      "metadata": {
        "id": "LbTsnvROwsef"
      },
      "execution_count": null,
      "outputs": []
    },
    {
      "cell_type": "code",
      "source": [
        "# Use list comprehension to remove the set of updated stop words from the list of words\n",
        "remove_stop_word =[ word for word in words_in_sentence if word.lower() not in stop_words]\n",
        "print(remove_stop_word)"
      ],
      "metadata": {
        "id": "XMOdCGsWwufB"
      },
      "execution_count": null,
      "outputs": []
    },
    {
      "cell_type": "code",
      "source": [
        "# Finally using the join() method, get the sentence without the stop words. Keep in mind that every word in the sentence will be separated by space\n",
        "new_sentence= ' '.join(remove_stop_word)\n",
        "\n",
        "# Print the modified sentence\n",
        "print(new_sentence)"
      ],
      "metadata": {
        "id": "qpjhNZlnwwbV"
      },
      "execution_count": null,
      "outputs": []
    },
    {
      "cell_type": "markdown",
      "source": [
        "#Question\n",
        "Create another list which contains the squares of differences of each element of the two price lists : the actual prices and the predicted prices"
      ],
      "metadata": {
        "id": "ZTaFYrOMwxUq"
      }
    },
    {
      "cell_type": "code",
      "source": [
        "# List of actual house prices\n",
        "actual_house_prices = list(house_area_price_dict.values())\n",
        "\n",
        "# Zip the two price lists together\n",
        "zipping = zip(predicted_house_prices , actual_house_prices)\n",
        "\n",
        "# List of squared differences between each element of the two lists using list comprehension\n",
        "squared_difference_in_prices = [(actual-predicted)**2 for actual , predicted in zipping ]\n",
        "print(squared_difference_in_prices)"
      ],
      "metadata": {
        "id": "ScH1GJhIwy53"
      },
      "execution_count": null,
      "outputs": []
    },
    {
      "cell_type": "code",
      "source": [],
      "metadata": {
        "id": "fHJk3VWeXa14"
      },
      "execution_count": null,
      "outputs": []
    },
    {
      "cell_type": "markdown",
      "source": [
        "#Question\n",
        " Python program to check Armstrong’s number."
      ],
      "metadata": {
        "id": "YNmBI1y_7U7e"
      }
    },
    {
      "cell_type": "code",
      "source": [
        "num=int(input(\"Enter the number to check armstrong number: \"))\n",
        "arms = num\n",
        "length = len(str(num))\n",
        "sum1 = 0\n",
        "while num != 0:\n",
        "\trem = num % 10\n",
        "\tsum1 = sum1+(rem**length)\n",
        "\tnum = num//10\n",
        "\n",
        "if arms == sum1:\n",
        "\tprint(\"The given number\", arms, \"is armstrong number\")\n",
        "else:\n",
        "\tprint(\"The given number\", arms, \"is not an armstrong number\")"
      ],
      "metadata": {
        "id": "1xy99Igp7XlW",
        "colab": {
          "base_uri": "https://localhost:8080/"
        },
        "outputId": "90076b6c-f3c5-4570-be0e-641f23ad618b"
      },
      "execution_count": null,
      "outputs": [
        {
          "output_type": "stream",
          "name": "stdout",
          "text": [
            "Enter the number to check armstrong number: 153\n",
            "The given number 153 is armstrong number\n"
          ]
        }
      ]
    },
    {
      "cell_type": "markdown",
      "source": [
        "#Question\n",
        "Write a function which takes the excel column name as an input and returns the corresponding column number. A few examples are :\n",
        "\n",
        "column name = 'J' , column number = 10\n",
        "\n",
        "column name = 'AP' , column number = 42\n",
        "\n",
        "column name = 'AAA', column number = 703"
      ],
      "metadata": {
        "id": "FmTxGKhg80gN"
      }
    },
    {
      "cell_type": "code",
      "source": [
        "def get_excel_column_number(column_name):\n",
        "  '''\n",
        "  This functions returns the corresponding column number for an excel column name\n",
        "  '''\n",
        "  if column_name == 'J':\n",
        "    print('column number = 10')\n",
        "  elif column_name == 'AP':\n",
        "    print('column_number =42')\n",
        "  elif column_name == 'AAA':\n",
        "    print('column number = 703')\n",
        "  else:\n",
        "     print('column name not found')\n",
        "\n",
        "  return column_name\n"
      ],
      "metadata": {
        "id": "7PeriWq9825i"
      },
      "execution_count": null,
      "outputs": []
    },
    {
      "cell_type": "code",
      "source": [
        "get_excel_column_number('BD')"
      ],
      "metadata": {
        "colab": {
          "base_uri": "https://localhost:8080/",
          "height": 52
        },
        "id": "TVIh9q4bRi1b",
        "outputId": "22a51edf-6587-4b93-9825-e119e240e0f7"
      },
      "execution_count": null,
      "outputs": [
        {
          "output_type": "stream",
          "name": "stdout",
          "text": [
            "column name not found\n"
          ]
        },
        {
          "output_type": "execute_result",
          "data": {
            "text/plain": [
              "'BD'"
            ],
            "application/vnd.google.colaboratory.intrinsic+json": {
              "type": "string"
            }
          },
          "metadata": {},
          "execution_count": 2
        }
      ]
    },
    {
      "cell_type": "code",
      "source": [
        "get_excel_column_number('ALQ')"
      ],
      "metadata": {
        "colab": {
          "base_uri": "https://localhost:8080/",
          "height": 52
        },
        "id": "F6nWaYiORjeI",
        "outputId": "4a133224-55d0-4dd1-b267-48ae5dbb8db3"
      },
      "execution_count": null,
      "outputs": [
        {
          "output_type": "stream",
          "name": "stdout",
          "text": [
            "column name not found\n"
          ]
        },
        {
          "output_type": "execute_result",
          "data": {
            "text/plain": [
              "'ALQ'"
            ],
            "application/vnd.google.colaboratory.intrinsic+json": {
              "type": "string"
            }
          },
          "metadata": {},
          "execution_count": 3
        }
      ]
    },
    {
      "cell_type": "markdown",
      "source": [
        "#Question\n",
        "Write a Python function which takes a sentence and a length value as inputs and returns the counts of those words from the sentence whose length is equal to the provided input length value.\n",
        "\n",
        "Suppose if the input for the length value is 5, it will return the count of all those words which are of length 5"
      ],
      "metadata": {
        "id": "fsK5QR2MRx3n"
      }
    },
    {
      "cell_type": "code",
      "source": [
        "marvel_quote = \"The world has changed and none of us can go back. All we can do is our best, and sometimes the best that we can do is to start over.\""
      ],
      "metadata": {
        "id": "jSeT3WpqRlmf"
      },
      "execution_count": null,
      "outputs": []
    },
    {
      "cell_type": "code",
      "source": [
        "def fixed_length_word_counts(sentence, length=3):\n",
        "  '''\n",
        "  This function returns the count of the words with the given input length\n",
        "  '''\n",
        "  list_of_words = sentence.replace(',','').replace('.','').split(' ')\n",
        "\n",
        "  required_sentence= [ words for words in list_of_words if len(words)==length  ]\n",
        "\n",
        "  return required_sentence\n",
        "\n",
        "\n",
        "\n",
        "\n",
        "\n"
      ],
      "metadata": {
        "id": "HAw5eOPcbru0"
      },
      "execution_count": null,
      "outputs": []
    },
    {
      "cell_type": "code",
      "source": [
        "print(fixed_length_word_counts(marvel_quote , length= 4 ))"
      ],
      "metadata": {
        "colab": {
          "base_uri": "https://localhost:8080/"
        },
        "id": "d5iGR_N0b0cT",
        "outputId": "2831e337-7d2d-427e-baca-4cf4f8094c13"
      },
      "execution_count": null,
      "outputs": [
        {
          "output_type": "stream",
          "name": "stdout",
          "text": [
            "['none', 'back', 'best', 'best', 'that', 'over']\n"
          ]
        }
      ]
    },
    {
      "cell_type": "markdown",
      "source": [
        "#Question\n",
        "Write a Python program to find the factorial of a number.\n"
      ],
      "metadata": {
        "id": "xJlt-xuob2Ex"
      }
    },
    {
      "cell_type": "code",
      "source": [
        "def factorial(n):\n",
        "    if n == 0:\n",
        "        return 1\n",
        "    else:\n",
        "        return n * factorial(n-1)\n",
        "\n",
        "# Test the function\n",
        "number = 5\n",
        "result = factorial(number)\n",
        "print(f\"The factorial of {number} is {result}\")"
      ],
      "metadata": {
        "id": "lRjMrZ2Ib3Sq",
        "colab": {
          "base_uri": "https://localhost:8080/"
        },
        "outputId": "779698e8-8415-4664-d53a-2bf70efc2031"
      },
      "execution_count": null,
      "outputs": [
        {
          "output_type": "stream",
          "name": "stdout",
          "text": [
            "The factorial of 5 is 120\n"
          ]
        }
      ]
    },
    {
      "cell_type": "markdown",
      "source": [
        "#Question\n",
        "Write a Python program to find the largest element in a list.\n"
      ],
      "metadata": {
        "id": "v3sZMrlbYF2B"
      }
    },
    {
      "cell_type": "code",
      "source": [
        "def find_largest(numbers):\n",
        "    largest = numbers[0]\n",
        "    for num in numbers:\n",
        "        if num > largest:\n",
        "            largest = num\n",
        "    return largest\n",
        "\n",
        "# Test the function\n",
        "nums = [10, 5, 8, 20, 3]\n",
        "largest_num = find_largest(nums)\n",
        "print(f\"The largest number is {largest_num}\")"
      ],
      "metadata": {
        "id": "WTHFm20iYItM",
        "colab": {
          "base_uri": "https://localhost:8080/"
        },
        "outputId": "b7190771-de0f-4266-d3bd-1ac2fde642ce"
      },
      "execution_count": null,
      "outputs": [
        {
          "output_type": "stream",
          "name": "stdout",
          "text": [
            "The largest number is 20\n"
          ]
        }
      ]
    },
    {
      "cell_type": "markdown",
      "source": [
        "#Question\n",
        "Write a Python program to reverse a string."
      ],
      "metadata": {
        "id": "_5CeAEhMylWW"
      }
    },
    {
      "cell_type": "code",
      "source": [
        "def reverse_string(string):\n",
        "    return string[::-1]\n",
        "\n",
        "# Test the function\n",
        "text = \"Hello, World!\"\n",
        "reversed_text = reverse_string(text)\n",
        "print(reversed_text)"
      ],
      "metadata": {
        "id": "oI-0LAr2yndv",
        "colab": {
          "base_uri": "https://localhost:8080/"
        },
        "outputId": "103ddee1-3c1e-4e27-c312-cc0f73e36af1"
      },
      "execution_count": null,
      "outputs": [
        {
          "output_type": "stream",
          "name": "stdout",
          "text": [
            "!dlroW ,olleH\n"
          ]
        }
      ]
    },
    {
      "cell_type": "markdown",
      "source": [
        "#Question\n",
        "Write a Python program to find the common elements between two lists."
      ],
      "metadata": {
        "id": "mLGYz2nVFgL8"
      }
    },
    {
      "cell_type": "code",
      "source": [
        "def find_common_elements(list1, list2):\n",
        "    common_elements = []\n",
        "    for item in list1:\n",
        "        if item in list2:\n",
        "            common_elements.append(item)\n",
        "    return common_elements\n",
        "\n",
        "# Test the function\n",
        "list_a = [1, 2, 3, 4, 5]\n",
        "list_b = [4, 5, 6, 7, 8]\n",
        "common = find_common_elements(list_a, list_b)\n",
        "print(common)"
      ],
      "metadata": {
        "id": "IZpY3GWYFiFZ",
        "colab": {
          "base_uri": "https://localhost:8080/"
        },
        "outputId": "5048bb80-3cca-42ca-e4f7-d2fa6bc6d9f0"
      },
      "execution_count": null,
      "outputs": [
        {
          "output_type": "stream",
          "name": "stdout",
          "text": [
            "[4, 5]\n"
          ]
        }
      ]
    },
    {
      "cell_type": "markdown",
      "source": [
        "#Question\n",
        "Write a Python program to find the second largest number in a list."
      ],
      "metadata": {
        "id": "oJMFwwQnuLGK"
      }
    },
    {
      "cell_type": "code",
      "source": [
        "def find_second_largest(numbers):\n",
        "    largest = float('-inf')\n",
        "    second_largest = float('-inf')\n",
        "    for num in numbers:\n",
        "        if num > largest:\n",
        "            second_largest = largest\n",
        "            largest = num\n",
        "        elif num > second_largest and num != largest:\n",
        "            second_largest = num\n",
        "    return second_largest\n",
        "\n",
        "# Test the function\n",
        "nums = [10, 5, 8, 20, 3]\n",
        "second_largest_num = find_second_largest(nums)\n",
        "print(f\"The second largest number is {second_largest_num}\")"
      ],
      "metadata": {
        "id": "4CkVALDFuNCE"
      },
      "execution_count": null,
      "outputs": []
    },
    {
      "cell_type": "markdown",
      "source": [
        "#Question\n",
        "Write a Python program to sort a list of elements using the bubble sort algorithm."
      ],
      "metadata": {
        "id": "npnxeeK-8H5r"
      }
    },
    {
      "cell_type": "code",
      "source": [
        "def bubble_sort(elements):\n",
        "    n = len(elements)\n",
        "    for i in range(n - 1):\n",
        "        for j in range(n - i - 1):\n",
        "            if elements[j] > elements[j + 1]:\n",
        "                elements[j], elements[j + 1] = elements[j + 1], elements[j]\n",
        "\n",
        "# Test the function\n",
        "nums = [5, 2, 8, 1, 9]\n",
        "bubble_sort(nums)\n",
        "print(nums)"
      ],
      "metadata": {
        "id": "JVmjuBmG8Jk9"
      },
      "execution_count": null,
      "outputs": []
    },
    {
      "cell_type": "markdown",
      "source": [],
      "metadata": {
        "id": "UmFJcLCY8MNg"
      }
    }
  ]
}